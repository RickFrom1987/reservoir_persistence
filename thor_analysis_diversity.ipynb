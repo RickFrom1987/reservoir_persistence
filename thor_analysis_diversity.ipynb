{
 "cells": [
  {
   "cell_type": "code",
   "execution_count": 8,
   "metadata": {
    "collapsed": false
   },
   "outputs": [],
   "source": [
    "#!/usr/bin/python\n",
    "%matplotlib inline\n",
    "\n",
    "import numpy as np\n",
    "import matplotlib.pyplot as plt\n",
    "import pandas as pd\n",
    "import matplotlib.colors as mcolors\n",
    "import matplotlib.cm as cm\n",
    "import scipy.stats as stats\n",
    "from scipy.misc import comb\n",
    "\n",
    "thor=pd.read_csv('data/thor_all.csv') #import data\n",
    "\n",
    "rez=600"
   ]
  },
  {
   "cell_type": "code",
   "execution_count": 81,
   "metadata": {
    "collapsed": true
   },
   "outputs": [],
   "source": [
    "#genetic distance metric calculation\n",
    "def diff_letters(a,b):\n",
    "    diff = sum(a[i] != b[i] for i in range(min(len(a),len(b))))\n",
    "    return diff+np.abs(len(a)-len(b))\n",
    "\n",
    "#gets the counts of each genetic distance, takes the data column and a random number to compare sequences between\n",
    "def get_countz(df,ref_seq):\n",
    "    HD=[]\n",
    "    for i in range(df.index[0],df.index[-1]):\n",
    "        HD.append(diff_letters(ref_seq,df[i]))\n",
    "    return HD"
   ]
  },
  {
   "cell_type": "code",
   "execution_count": 83,
   "metadata": {
    "collapsed": false
   },
   "outputs": [
    {
     "data": {
      "text/plain": [
       "(array([ 33.,  15.,   0.,   0.,   0.,   0.,   0.,   0.,   0.,   0.,   1.,\n",
       "          0.,   0.,   0.,   0.,   0.,   0.,   0.,   0.,   0.,  11.,   0.,\n",
       "          4.,   0.,   0.,   0.,   0.,   0.,   0.,   0.,   0.,   0.,   0.,\n",
       "          0.,   0.,   0.,   1.,   0.,   0.,   0.,   0.,   0.,   0.,   0.,\n",
       "          0.,   0.,   0.,   0.,   0.,   1.,   0.,   0.,   0.,   0.,   0.,\n",
       "          0.,   0.,   0.,   0.,   0.,   0.,   0.,   0.,   0.,   0.,   0.,\n",
       "          1.]), array([  0.        ,   0.58208955,   1.1641791 ,   1.74626866,\n",
       "          2.32835821,   2.91044776,   3.49253731,   4.07462687,\n",
       "          4.65671642,   5.23880597,   5.82089552,   6.40298507,\n",
       "          6.98507463,   7.56716418,   8.14925373,   8.73134328,\n",
       "          9.31343284,   9.89552239,  10.47761194,  11.05970149,\n",
       "         11.64179104,  12.2238806 ,  12.80597015,  13.3880597 ,\n",
       "         13.97014925,  14.55223881,  15.13432836,  15.71641791,\n",
       "         16.29850746,  16.88059701,  17.46268657,  18.04477612,\n",
       "         18.62686567,  19.20895522,  19.79104478,  20.37313433,\n",
       "         20.95522388,  21.53731343,  22.11940299,  22.70149254,\n",
       "         23.28358209,  23.86567164,  24.44776119,  25.02985075,\n",
       "         25.6119403 ,  26.19402985,  26.7761194 ,  27.35820896,\n",
       "         27.94029851,  28.52238806,  29.10447761,  29.68656716,\n",
       "         30.26865672,  30.85074627,  31.43283582,  32.01492537,\n",
       "         32.59701493,  33.17910448,  33.76119403,  34.34328358,\n",
       "         34.92537313,  35.50746269,  36.08955224,  36.67164179,\n",
       "         37.25373134,  37.8358209 ,  38.41791045,  39.        ]), <a list of 67 Patch objects>)"
      ]
     },
     "execution_count": 83,
     "metadata": {},
     "output_type": "execute_result"
    },
    {
     "data": {
      "image/png": "[encoded data removed]",
      "text/plain": [
       "<matplotlib.figure.Figure at 0x10c1fa7b8>"
      ]
     },
     "metadata": {},
     "output_type": "display_data"
    }
   ],
   "source": [
    "df=thor[(thor['patient']=='B1') & (thor['time']==1.1)]['sequence']\n",
    "\n",
    "HD=get_countz(df,df[0])\n",
    "plt.hist(HD,len(HD))"
   ]
  },
  {
   "cell_type": "code",
   "execution_count": 92,
   "metadata": {
    "collapsed": false
   },
   "outputs": [
    {
     "data": {
      "text/plain": [
       "'CCCTCAGACCCTTTTAGTCAGTGTGGAAAATCTCTAGCA'"
      ]
     },
     "execution_count": 92,
     "metadata": {},
     "output_type": "execute_result"
    }
   ],
   "source": [
    "thor[thor['patient']==p]['sequence'].iloc[0]"
   ]
  },
  {
   "cell_type": "code",
   "execution_count": 84,
   "metadata": {
    "collapsed": true
   },
   "outputs": [],
   "source": [
    "def get_patient_info(p):\n",
    "    if p=='B1':\n",
    "        \n",
    "        #temporary data fram\n",
    "        tdf=thor[thor['patient']=='B1']\n",
    "        \n",
    "        #get unique values\n",
    "        tl = tdf['time'].unique()\n",
    "                      \n",
    "        #specific grouping for B1\n",
    "        plist = [tdf[(tdf['time']==tl[0])],\n",
    "              tdf[(tdf['time']==tl[1]) | (tdf['time']==tl[2])],\n",
    "              tdf[(tdf['time']==tl[3]) | (tdf['time']==tl[4])]] \n",
    "\n",
    "        cz='slateblue'\n",
    "        csubs=['navy','slateblue','steelblue']\n",
    "        mz='o'\n",
    "        group_list=['1.1','6.3-7.1','11.3-12.7']\n",
    "        times_avg=[1.1,6.8,12]\n",
    "        \n",
    "    if p=='L1':\n",
    "        \n",
    "        tdf= thor[thor['patient']==p]\n",
    "        tl = tdf['time'].unique()\n",
    "                      \n",
    "        #specific grouping for B1\n",
    "        plist = [tdf[(tdf['time']==tl[0]) | (tdf['time']==tl[1])],\n",
    "                  tdf[tdf['time']==tl[2]],\n",
    "                  tdf[tdf['time']==tl[3]]]\n",
    "        cz='limegreen'\n",
    "        csubs=['darkgreen','olivedrab','limegreen']\n",
    "        mz='s'\n",
    "        group_list=['1.0-1.3','4.1','11.8']\n",
    "        times_avg=[1.1,4,12]\n",
    "\n",
    "    if p=='R1':\n",
    "        \n",
    "        tdf= thor[thor['patient']==p]\n",
    "        tl = tdf['time'].unique()\n",
    "              \n",
    "        #specific grouping for B1\n",
    "        plist = [tdf[tdf['time']==tl[0]],\n",
    "                 tdf[tdf['time']==tl[1]],\n",
    "                 tdf[tdf['time']==tl[2]]]\n",
    "        cz='indianred'\n",
    "        csubs=['tomato','peru','pink']\n",
    "        mz='^'\n",
    "        times_avg=[1.8,8.2,12.3] \n",
    "        group_list=['1.8','8.2','12.3']\n",
    "\n",
    "    return tl,plist,cz,csubs,mz,times_avg,group_list"
   ]
  },
  {
   "cell_type": "code",
   "execution_count": 135,
   "metadata": {
    "collapsed": false
   },
   "outputs": [
    {
     "data": {
      "text/plain": [
       "'CCCTCAGTCCCTTTTAGTCAGTGTGGAAAATCTCTAGCA'"
      ]
     },
     "execution_count": 135,
     "metadata": {},
     "output_type": "execute_result"
    }
   ],
   "source": [
    "df=thor[thor['patient']==p]['sequence']\n",
    "\n",
    "max_item = df.max()\n",
    "\n",
    "max_item"
   ]
  },
  {
   "cell_type": "code",
   "execution_count": 136,
   "metadata": {
    "collapsed": false
   },
   "outputs": [
    {
     "data": {
      "text/plain": [
       "333    CCCTCAGACCCTTTTAGTCAGTGTGGAAAATCTCTAGCA\n",
       "334    CCCTCAGACCCTTTTAGTCAGTGTGAAAAATCTCTAGCA\n",
       "335    CCCTCAGACCCTTTTAGTCAGTGTGGAAAATCTCTAGCA\n",
       "336    CCCTCAGACCCTTTTAGTCAGTGTGGAAAATCTCTAGCA\n",
       "337    CCCTCAGACCCTTTTAGTCAGTGTGGAAAATCTCTAGCA\n",
       "338    CCCTCAGACCCTTTTAGTCAGTGTGGAAAATCTCTAGCA\n",
       "339    CCCTCAGACCCTTTTAGTCAGTGTGGAAAATCTCTAGCA\n",
       "340    CCCTCAGACCCTTTTAGTCAGTGTGGAAAATCTCTAGCA\n",
       "341    CCCTCAGACCCTTTTAGTCAGTGTGGAAAATCTCTAGCA\n",
       "342    CCCTCAGACCCTTTTAGTCAGTGTGGAAAATCTCTAGCA\n",
       "343    CCCTCAGACCCTTTTAGTCAGTGTGGAAAATCTCTAGCA\n",
       "344    CCCTCAGACCCTTTTAGTCAGTGTGGAAAATCTCTAGCA\n",
       "345    CCCTCAGACCCTTTTAGTCAGTGTGGGAAATCTCTAGAA\n",
       "346    CCCTCAGACCCTTTTAGTCAGTGTGGAAAATCTCTAGCA\n",
       "347    CCCTCAGACCCTTTTAGTCAGTGTGGAAAATCTCTAGCA\n",
       "348    CCCTCAGACCCTTTTAGTCATTGTGGAAAATCTCTAGCA\n",
       "349    CCCTCAGACCCTTTTAGTCAGTGTAGAAAATCTCTAGCA\n",
       "350    CCCTCAGACCCTTTTAGTCAGTGTGGAAAATCTCTAGCA\n",
       "351    CCCTCAGACCCTTTTAGTCAGTGTGGAAAATCTCTAGCA\n",
       "352    CCCTCAGACCCTTTTAGTCAGTGTGAAAAATCTCTAGCA\n",
       "353    CCCTCAGACCCTTTTAGTCAGTGTGGAAAATCTCTAGCA\n",
       "354    CCCTCAGACCCTTTTAGTCAGTGTGGAAAATCTCTAGCA\n",
       "355    CCCTCAGACCCTTTTAGTCAGTGTGGAAAATCTCTAGCA\n",
       "356    CCCTCAGACCCTTTTAGTCAGTGTAGAAAATCTCTAGCA\n",
       "357    CCCTCAGACCCTTTTAGTCAGTGTGGAAAATCTCTAGCA\n",
       "358    CCCTCAGACCCTTTTAGTCAGTGTGGAAAATCTCTAGCA\n",
       "359    CCCTCAGACCCTTTTAGGCAGTGTGGAAAATCTCTAGCA\n",
       "360    CCCTCAGACCCTTTTAGTCAGTGTGGAAAATCTCTAGCA\n",
       "361    CCCTCAGACCCTTTTAGTCAGTGTGGAAAATCTCTAGCA\n",
       "362    CCCTCAGACCCTTTTAGTCAGTGTGGAAAATCTCTAGCA\n",
       "                        ...                   \n",
       "504    CCCTCAGACCCTTTTAGTCAGTGTGGAAAATCTCTAGCA\n",
       "505    CCCTCAGACCCTTTTAGTCAGTGTGGAAAATCTCTAGCA\n",
       "506    CCCTCAGACCCTTTTAGTCAGTGTGGAAAATCTCTAGCA\n",
       "507    CCCTCAGACCCTTTTAGTCAGTGTGGAAAATCTCTAGCA\n",
       "508    CCCTCAGACCCTTTTAGGCAGTGTGGAAAATCTCTAGCA\n",
       "509    CCCTCAGACCCTTTTAGTCAGTGTAAAAAATCTCTAGCA\n",
       "510    CCCTCAGACCCTTTTAGTCAGTGTAGAAAATCTCTAGCA\n",
       "511    CCCTCAGACCCTTTTAGTCAGTGTGGAAAATCTCTAGCA\n",
       "512    CCCTCAGACCCTTTTAGTCAGTGTGGAAAATCTCTAGCA\n",
       "513    CCCTCAGACCCTTTTAGTCAGTGTGGAAAATCTCTAGCA\n",
       "514    CCCTCAGACCCTTTTAGTCAGTGTGGAAAATCTCTAGCA\n",
       "515    CCCTCAGACCCTTTTAGTCAGTGTGGAAAATCTCTAGCA\n",
       "516    CCCTCAGACCCTTTTAGTCAGTGTGGAAAATCTCTAGCA\n",
       "517    CCCTCAGACCCTTTTAGTCAGTGTGGAAAATCTCTAGCA\n",
       "518    CCCTCAGACCCTTTTAGGCAGTGTAGAAAATCTCTAGCA\n",
       "519    CCCTCAGACCCTTTTAGTCAGTGTGGAAAATCTCTAGCA\n",
       "520    CCCTCAGACCCTTTTAGTCAGTGTGGAAAATCTCTAGCA\n",
       "521    CCCTCAGACCCTTTTAGTCAGTGTGGAAAATCTCTAGCA\n",
       "522    CCCTCAGACCCTTTTAGTCAGTGTGGAAAATCTCTAGCA\n",
       "523    CCCTCAGACCCTTTTAGTCAGTGTGGAAAATCTCTAGCA\n",
       "524    CCCTCAGACCCTTTTAGTCAGTGTAGAAAATCTCTAGCA\n",
       "525    CCCTCAGACCCTTTTAGTCAGTGTGGAAAATCTCTAGCA\n",
       "526    CCCTCAGACCCTTTTAGTCGGTGTGGAAAATCTCTAGCA\n",
       "527    CCCTCAGACCCTTTTAGTCAGTGTGGAAAATCTCTAGCA\n",
       "528    CCCTCAGACCCTTTTAGTCAGTGTGGAAAATCTCTAGCA\n",
       "529    CCCTCAGACCCTTTTAGTCAGTGTGGAAAATCTCTAGCA\n",
       "530    CCCTCAGACCCTTTTAGTCAGTGTGGAAAATCTCTAGCA\n",
       "531    CCCTCAGACCCTTTTAGTCAGTGTGGAAAATCTCTAGCA\n",
       "532    CCCTCAGTCCCTTTTAGTCAGTGTGGAAAATCTCTAGCA\n",
       "533    CCCTCAGACCCTTTTAGTCAGTGTGGAAAATCTCTAGCA\n",
       "Name: sequence, dtype: object"
      ]
     },
     "execution_count": 136,
     "metadata": {},
     "output_type": "execute_result"
    }
   ],
   "source": [
    "df"
   ]
  },
  {
   "cell_type": "code",
   "execution_count": 145,
   "metadata": {
    "collapsed": false
   },
   "outputs": [
    {
     "data": {
      "image/png": "[encoded data removed]",
      "text/plain": [
       "<matplotlib.figure.Figure at 0x10c443668>"
      ]
     },
     "metadata": {},
     "output_type": "display_data"
    }
   ],
   "source": [
    "#grouped data rank abundance plots\n",
    "fig,axarr = plt.subplots(1,3,sharex=False, sharey=True,figsize=(7,3),dpi=rez)\n",
    "in_p=0\n",
    "u_rat=[[],[],[]]\n",
    "t_list=[]\n",
    "q_list=[]\n",
    "\n",
    "for p in thor['patient'].unique():\n",
    "        \n",
    "    tl,plist,cz,csubs,mz,times_avg,group_list = get_patient_info(p)\n",
    "\n",
    "    ref_seq=thor[thor['patient']==p]['sequence'].iloc[6]#.max() #use most common sequence as ref\n",
    "    \n",
    "    for tp in range(len(plist)): #with grouped time intervals\n",
    "    \n",
    "        df = plist[tp]['sequence']\n",
    "                \n",
    "        HD=get_countz(df,ref_seq)\n",
    "        \n",
    "        h_n,h_k = np.histogram(HD,len(HD))\n",
    "        \n",
    "        axarr[in_p].step(range(len(h_n)),h_n,alpha=0.5,color=csubs[tp],lw=2)\n",
    "        #axarr[in_p].loglog(range(len(h_n)),-np.sort(-h_n)+0.01,alpha=0.5,color=csubs[tp],lw=2)\n",
    "        axarr[in_p].legend(group_list,fontsize=8)\n",
    "        \n",
    "    axarr[in_p].set_title(p)\n",
    "    in_p+=1\n",
    "\n",
    "axarr[0].set_xlim([0.1,60])\n",
    "axarr[0].set_ylim([0.1,60])\n",
    "plt.tight_layout()\n",
    "\n",
    "plt.savefig('figures/hd_dist.pdf')\n"
   ]
  },
  {
   "cell_type": "code",
   "execution_count": null,
   "metadata": {
    "collapsed": true
   },
   "outputs": [],
   "source": []
  }
 ],
 "metadata": {
  "kernelspec": {
   "display_name": "Python 3",
   "language": "python",
   "name": "python3"
  },
  "language_info": {
   "codemirror_mode": {
    "name": "ipython",
    "version": 3
   },
   "file_extension": ".py",
   "mimetype": "text/x-python",
   "name": "python",
   "nbconvert_exporter": "python",
   "pygments_lexer": "ipython3",
   "version": "3.5.1"
  }
 },
 "nbformat": 4,
 "nbformat_minor": 0
}
