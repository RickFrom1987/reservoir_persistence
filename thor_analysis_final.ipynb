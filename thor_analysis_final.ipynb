{
 "cells": [
  {
   "cell_type": "code",
   "execution_count": 1,
   "metadata": {
    "collapsed": false
   },
   "outputs": [
    {
     "name": "stderr",
     "output_type": "stream",
     "text": [
      "/Users/danielreeves/anaconda/lib/python3.5/site-packages/pandas/computation/__init__.py:19: UserWarning: The installed version of numexpr 2.4.4 is not supported in pandas and will be not be used\n",
      "\n",
      "  UserWarning)\n"
     ]
    }
   ],
   "source": [
    "#!/usr/bin/python\n",
    "%matplotlib inline\n",
    "\n",
    "import numpy as np\n",
    "import matplotlib.pyplot as plt\n",
    "import pandas as pd\n",
    "import matplotlib.colors as mcolors\n",
    "import matplotlib.cm as cm\n",
    "import scipy.stats as stats\n",
    "from scipy.misc import comb\n",
    "\n",
    "#plt.style.use('ggplot')\n",
    "\n",
    "thor=pd.read_csv('data/thor_edited.csv') #import data\n",
    "\n",
    "rez=600"
   ]
  },
  {
   "cell_type": "code",
   "execution_count": 2,
   "metadata": {
    "collapsed": true
   },
   "outputs": [],
   "source": [
    "def get_patient_info(p):\n",
    "    if p=='B1':\n",
    "        \n",
    "        #temporary data fram\n",
    "        tdf=thor[thor['ppt1']=='B1']\n",
    "        \n",
    "        #get unique values\n",
    "        tl = tdf['time1'].unique()\n",
    "                      \n",
    "        #specific grouping for B1\n",
    "        plist = [tdf[(tdf['time1']==tl[0])],\n",
    "              tdf[(tdf['time1']==tl[1]) | (tdf['time1']==tl[2])],\n",
    "              tdf[(tdf['time1']==tl[3]) | (tdf['time1']==tl[4])]] \n",
    "\n",
    "        cz='slateblue'\n",
    "        csubs=['navy','slateblue','steelblue']\n",
    "        mz='o'\n",
    "        group_list=['1.1','6.3-7.1','11.3-12.7']\n",
    "        times_avg=[1.1,6.8,12]\n",
    "        \n",
    "    if p=='L1':\n",
    "        \n",
    "        tdf= thor[thor['ppt1']==p]\n",
    "        tl = tdf['time1'].unique()\n",
    "                      \n",
    "        #specific grouping for B1\n",
    "        plist = [tdf[(tdf['time1']==tl[0]) | (tdf['time1']==tl[1])],\n",
    "                  tdf[tdf['time1']==tl[2]],\n",
    "                  tdf[tdf['time1']==tl[3]]]\n",
    "        cz='limegreen'\n",
    "        csubs=['darkgreen','olivedrab','limegreen']\n",
    "        mz='s'\n",
    "        group_list=['1.0-1.3','4.1','11.8']\n",
    "        times_avg=[1.1,4,12]\n",
    "\n",
    "    if p=='R1':\n",
    "        \n",
    "        tdf= thor[thor['ppt1']==p]\n",
    "        tl = tdf['time1'].unique()\n",
    "              \n",
    "        #specific grouping for B1\n",
    "        plist = [tdf[tdf['time1']==tl[0]],\n",
    "                 tdf[tdf['time1']==tl[1]],\n",
    "                 tdf[tdf['time1']==tl[2]]]\n",
    "        cz='indianred'\n",
    "        csubs=['tomato','peru','pink']\n",
    "        mz='^'\n",
    "        times_avg=[1.8,8.2,12.3] \n",
    "        group_list=['1.8','8.2','12.3']\n",
    "\n",
    "    return tl,plist,cz,csubs,mz,times_avg,group_list"
   ]
  },
  {
   "cell_type": "code",
   "execution_count": 20,
   "metadata": {
    "collapsed": false
   },
   "outputs": [
    {
     "name": "stdout",
     "output_type": "stream",
     "text": [
      "52 68.0 0.764705882353\n",
      "44 65.0 0.676923076923\n",
      "35 54.0 0.648148148148\n",
      "32 48.0 0.666666666667\n",
      "29 43.0 0.674418604651\n",
      "29 48.0 0.604166666667\n",
      "75 78.0 0.961538461538\n",
      "53 62.0 0.854838709677\n",
      "46 61.0 0.754098360656\n"
     ]
    },
    {
     "data": {
      "image/png": "[encoded data removed]",
      "text/plain": [
       "<matplotlib.figure.Figure at 0x10a2796d8>"
      ]
     },
     "metadata": {},
     "output_type": "display_data"
    }
   ],
   "source": [
    "#grouped data rank abundance plots\n",
    "fig,axarr = plt.subplots(1,3,sharex=True, sharey=True,figsize=(7,3),dpi=rez)\n",
    "in_p=0\n",
    "u_rat=[[],[],[]]\n",
    "t_list=[]\n",
    "q_list=[]\n",
    "for p in thor['ppt1'].unique():\n",
    "        \n",
    "    tl,plist,cz,csubs,mz,times_avg,group_list = get_patient_info(p)\n",
    "    \n",
    "    for tp in range(len(plist)): #with grouped time intervals\n",
    "\n",
    "        genes = plist[tp]['gene1'].value_counts()\n",
    "        \n",
    "        clones = np.asarray(genes)[1:] #might have to be careful with 'X'\n",
    "        \n",
    "        true_clones = np.append(clones,np.ones([genes['X'],1])) #append on the unknown clones\n",
    "\n",
    "        u_rat[in_p].append(sum(true_clones==1)/sum(true_clones))\n",
    "        t_list.append(times_avg[tp])\n",
    "        q_list.append(true_clones)\n",
    "        \n",
    "        print(sum(true_clones==1),sum(true_clones),sum(true_clones==1)/sum(true_clones))\n",
    "        \n",
    "        group_list[tp]='t='+group_list[tp]+r', $f_s$='+str(sum(true_clones==1))+'/'+str(int(sum(true_clones)))\n",
    "        \n",
    "        axarr[in_p].plot(np.arange(1,len(true_clones)+1),true_clones,alpha=0.5,color=csubs[tp],lw=2)\n",
    "        axarr[in_p].scatter(np.arange(1,len(true_clones)+1),true_clones,alpha=0.5,color=csubs[tp],marker=mz)#,where='pre')\n",
    "        axarr[in_p].legend(group_list,fontsize=9)\n",
    "        \n",
    "    axarr[in_p].set_title(p)\n",
    "    in_p+=1\n",
    "\n",
    "axarr[0].set_xscale('log')\n",
    "#axarr[0].set_yscale('log')    \n",
    "axarr[0].set_xticks([1,2,5,10,20,50])\n",
    "axarr[0].set_xticklabels([1,2,5,10,20,50])\n",
    "axarr[0].set_xlim([-2,80])\n",
    "axarr[0].set_ylim([0.7,10])\n",
    "#axarr[0].set_ylabel('abundance')\n",
    "#axarr[1].set_xlabel('rank')\n",
    "\n",
    "plt.tight_layout()\n",
    "\n",
    "plt.savefig('figures/rank_abundance_grouped.pdf')\n"
   ]
  },
  {
   "cell_type": "code",
   "execution_count": 21,
   "metadata": {
    "collapsed": false
   },
   "outputs": [
    {
     "name": "stdout",
     "output_type": "stream",
     "text": [
      "time (yrs) & # samples & max rank & rank1 frac & unique frac \\\\\n",
      "1.1 &        68.0 &     58 &     0.0735294117647 & 0.764705882353 \\\\\n",
      "6.8 &        65.0 &     51 &     0.0769230769231 & 0.676923076923 \\\\\n",
      "12 &        54.0 &     43 &     0.0740740740741 & 0.648148148148 \\\\\n",
      "1.1 &        48.0 &     35 &     0.145833333333 & 0.666666666667 \\\\\n",
      "4 &        43.0 &     32 &     0.209302325581 & 0.674418604651 \\\\\n",
      "12 &        48.0 &     34 &     0.1875 & 0.604166666667 \\\\\n",
      "1.8 &        78.0 &     76 &     0.0384615384615 & 0.961538461538 \\\\\n",
      "8.2 &        62.0 &     56 &     0.0806451612903 & 0.854838709677 \\\\\n",
      "12.3 &        61.0 &     51 &     0.0655737704918 & 0.754098360656 \\\\\n"
     ]
    }
   ],
   "source": [
    "#print some information about the data for tex table:\n",
    "print(r'time (yrs) & # samples & max rank & rank1 frac & unique frac \\\\')\n",
    "for i in range(9):\n",
    "    #plt.scatter(range(1,len(q_list[i])+1),np.cumsum(q_list[i]))\n",
    "    print(t_list[i],'&       ',sum(q_list[i]),'&    ',len(q_list[i]),\n",
    "          '&    ',max(q_list[i])/sum(q_list[i]),'&',sum(q_list[i]==1)/sum(q_list[i]),r'\\\\')\n",
    "\n"
   ]
  },
  {
   "cell_type": "code",
   "execution_count": 25,
   "metadata": {
    "collapsed": false
   },
   "outputs": [
    {
     "data": {
      "image/png": "[encoded data removed]",
      "text/plain": [
       "<matplotlib.figure.Figure at 0x10c4f2eb8>"
      ]
     },
     "metadata": {},
     "output_type": "display_data"
    }
   ],
   "source": [
    "#percent of clones unique\n",
    "plt.figure(figsize=(3,3),dpi=rez)\n",
    "\n",
    "c_list=['slateblue','limegreen','indianred']\n",
    "m_list=['o','s','^']\n",
    "inp=0\n",
    "for p in thor['ppt1'].unique():\n",
    "    tl,plist,cz,csubs,mz,times_avg,group_list = get_patient_info(p)\n",
    "    plt.plot(times_avg,u_rat[inp],color=c_list[inp],ls='--')\n",
    "    for j in range(3):\n",
    "        plt.scatter(times_avg[j],u_rat[inp][j],color=csubs[j],marker=m_list[inp])\n",
    "    inp+=1\n",
    "plt.ylim([0.5,1])\n",
    "plt.xticks(np.linspace(0.8,1,5))\n",
    "plt.xticks(np.linspace(0,15,6))\n",
    "plt.xlabel('time on ART (years)')    \n",
    "plt.ylabel('fraction observed \\n singleton sequences' + r' $f_s$') \n",
    "plt.xlim([0,13])\n",
    "plt.tight_layout()\n",
    "plt.legend(['B1','L1','R1'],fontsize=8,loc=3)\n",
    "plt.savefig('figures/unique_data.pdf')"
   ]
  },
  {
   "cell_type": "code",
   "execution_count": 22,
   "metadata": {
    "collapsed": false
   },
   "outputs": [
    {
     "data": {
      "image/png": "[encoded data removed]",
      "text/plain": [
       "<matplotlib.figure.Figure at 0x10c6eb048>"
      ]
     },
     "metadata": {},
     "output_type": "display_data"
    }
   ],
   "source": [
    "def chao1(true_clones):\n",
    "    Robs = len(true_clones)\n",
    "    n = sum(true_clones)\n",
    "\n",
    "    f1=sum(true_clones==1)\n",
    "    f2=sum(true_clones==2)\n",
    "        \n",
    "    Rest = Robs + (1-1./n)*f1*(f1-1)/(2*f2+1)\n",
    "        \n",
    "    if f2!=0:\n",
    "        rf=(f1/f2)\n",
    "        varR = f2*(rf**4/4 + rf**3 + rf**2/2)\n",
    "    else:\n",
    "        varR=Robs\n",
    "        \n",
    "    c=np.exp(1.96*np.sqrt(np.log(1+varR/(Rest-Robs)**2)))\n",
    "\n",
    "    C=(Rest-Robs)/c\n",
    "    \n",
    "    Rstd=np.sqrt(varR)\n",
    "    return Rest,C,Rstd\n",
    "\n",
    "R=np.zeros([3,3]); C=np.zeros([3,3]); Rstd=np.zeros([3,3])\n",
    "\n",
    "#use chao1 to estimate richness and her other paper for the diversity\n",
    "plt.figure(figsize=(5,3),dpi=rez)\n",
    "aopts=np.zeros([3,3])\n",
    "for in_p in range(3):\n",
    "    \n",
    "    tl,plist,cz,csubs,mz,times_avg,group_list = get_patient_info(thor['ppt1'].unique()[in_p])\n",
    "    \n",
    "    #loop through each grouped person\n",
    "    for tp in range(len(plist)): #with grouped time intervals\n",
    "\n",
    "        genes = plist[tp]['gene1'].value_counts()\n",
    "        \n",
    "        clones = np.asarray(genes)[1:] #might have to be careful with 'X'\n",
    "        \n",
    "        true_clones = np.append(clones,np.ones(genes['X'])) #append on the unknown clones\n",
    "\n",
    "        R[in_p][tp],C[in_p][tp],Rstd[in_p][tp]=chao1(true_clones) #estimate richness\n",
    "        \n",
    "    plt.subplot(121)\n",
    "    plt.fill_between(times_avg,R[in_p]-C[in_p],R[in_p]+C[in_p],color=cz,alpha=0.1)\n",
    "    for j in range(3):\n",
    "        plt.scatter(times_avg[j],R[in_p,j],color=csubs[j],marker=m_list[in_p])\n",
    "\n",
    "    plt.xlabel('time (years on ART)')\n",
    "    plt.ylabel('estimated integration site \\n richness $R_\\mathrm{est}$')\n",
    "    plt.yscale('log')\n",
    "    plt.xticks(np.linspace(0,12,5))\n",
    "\n",
    "    L=1e6*np.exp(-5.2e-4*np.array(times_avg)*365) #calculate the resrevoir size\n",
    "    \n",
    "    plt.subplot(122)\n",
    "    plt.fill_between(times_avg,(R[in_p]-C[in_p])/L,(R[in_p]+C[in_p])/L,color=cz,alpha=0.1)\n",
    "    for j in range(3):\n",
    "        plt.scatter(times_avg[j],R[in_p,j]/L[j],color=csubs[j],marker=m_list[in_p])\n",
    "    plt.xlabel('time (years on ART)')\n",
    "    plt.ylabel('richness to reservoir \\n size ratio' + r' $R_\\mathrm{est}/L(t)$')\n",
    "    plt.yscale('log')\n",
    "    plt.xticks(np.linspace(0,12,5))\n",
    "    \n",
    "    in_p+=1\n",
    "    \n",
    "#plt.legend(['B1','L1','R1'],fontsize=8,loc=1)\n",
    "plt.tight_layout()\n",
    "plt.savefig('figures/richness_over_time.pdf')"
   ]
  },
  {
   "cell_type": "code",
   "execution_count": 23,
   "metadata": {
    "collapsed": false
   },
   "outputs": [
    {
     "data": {
      "text/plain": [
       "array([[ 194.1313988 ,  210.9316196 ,   55.04443701],\n",
       "       [ 543.52920805,  449.03201445,  168.55275509],\n",
       "       [   8.71779789,  533.38450601,  405.93533968]])"
      ]
     },
     "execution_count": 23,
     "metadata": {},
     "output_type": "execute_result"
    }
   ],
   "source": [
    "Rstd"
   ]
  },
  {
   "cell_type": "code",
   "execution_count": 24,
   "metadata": {
    "collapsed": true
   },
   "outputs": [],
   "source": [
    "#function that calculates rarefaction curve based on rank and abundance data\n",
    "def rarefaction_old(true_clones):\n",
    "\n",
    "    R=len(true_clones)\n",
    "    N=sum(true_clones)\n",
    "\n",
    "    Rn=np.zeros(R)\n",
    "    nl=np.arange(1,R+1)\n",
    "\n",
    "    for n in nl:\n",
    "        ss=[]\n",
    "        for j in range(len(true_clones)):\n",
    "            ss.append(comb(N-true_clones[j],n))\n",
    "\n",
    "        Rn[n-1]=(R - sum(ss)/comb(N,n))\n",
    "    \n",
    "    return nl,Rn\n",
    "\n",
    "def rarefaction(rank,abundance,num_samples):\n",
    "\n",
    "    R=len(abundance)\n",
    "    L=sum(abundance)\n",
    "\n",
    "    r_list=np.zeros(num_samples)\n",
    "    n_list=range(1,num_samples+1)\n",
    "    for n in n_list:\n",
    "        ss=0 #the sum\n",
    "        for j in range(R):\n",
    "            ss+=comb(L-abundance[j],n)\n",
    "            \n",
    "        r_list[n-1]=R-ss/comb(L,n)\n",
    "    return n_list,r_list\n",
    "\n",
    "#function that calculates rarefaction curve based on rank and abundance data\n",
    "def rarefaction_approx(rank,abundance,num_samples):\n",
    "\n",
    "    R=len(abundance)\n",
    "    L=sum(abundance)\n",
    "\n",
    "    r_list=np.zeros(num_samples)\n",
    "    n_list=range(1,num_samples+1)\n",
    "    for n in n_list:\n",
    "        r_list[n-1]=R-np.sum((1-abundance/L)**n)\n",
    "    return n_list,r_list\n",
    "\n",
    "#species accumulation\n",
    "def accumulate(dist,max_s):\n",
    "    s_list=[]\n",
    "    s=0\n",
    "    curve=[]\n",
    "    while s<max_s:\n",
    "        draw = model.sample_distribution(dist,1)[0]\n",
    "\n",
    "        if draw not in s_list:\n",
    "            s+=1\n",
    "\n",
    "        s_list.append(draw)\n",
    "        curve.append(s)\n",
    "    \n",
    "    return np.arange(1,len(curve)+1),np.array(curve)"
   ]
  },
  {
   "cell_type": "code",
   "execution_count": 25,
   "metadata": {
    "collapsed": false
   },
   "outputs": [
    {
     "data": {
      "image/png": "[encoded data removed]",
      "text/plain": [
       "<matplotlib.figure.Figure at 0x10a32a8d0>"
      ]
     },
     "metadata": {},
     "output_type": "display_data"
    }
   ],
   "source": [
    "#rarefaction from data\n",
    "plt.figure(figsize=(3.4,3),dpi=rez)\n",
    "for in_p in range(3):\n",
    "    \n",
    "    tl,plist,cz,csubs,mz,times_avg,group_list = get_patient_info(thor['ppt1'].unique()[in_p])\n",
    "    \n",
    "    #loop through each grouped person\n",
    "    for tp in range(len(plist)): #with grouped time intervals\n",
    "\n",
    "        genes = plist[tp]['gene1'].value_counts()        \n",
    "        true_clones = np.append(np.asarray(genes)[1:],np.ones(genes['X'])) #append on the unknown clones\n",
    "\n",
    "        nl,Rn = rarefaction_approx(np.arange(1,len(true_clones)+1),true_clones,num_samples=int(sum(true_clones)))\n",
    "                \n",
    "        plt.plot(nl,Rn,color=csubs[tp],lw=3,alpha=0.7)\n",
    "    plt.xlabel('number of samples')\n",
    "    plt.ylabel('expected number of unique \\n integration sites (observed)')\n",
    "\n",
    "#plt.axis('equal')\n",
    "#plt.grid()\n",
    "#plt.axis([-3, 3, -3, 3])\n",
    "plt.plot(np.linspace(0,80,5),np.linspace(0,80,5),ls='--',color='black')\n",
    "plt.yticks(np.linspace(0,80,5))\n",
    "plt.xticks(np.linspace(0,80,5))\n",
    "plt.tight_layout()\n",
    "plt.savefig('figures/rarefaction.pdf')"
   ]
  },
  {
   "cell_type": "code",
   "execution_count": 10,
   "metadata": {
    "collapsed": false
   },
   "outputs": [
    {
     "data": {
      "text/plain": [
       "array([ 4.,  4.,  3.,  2.,  2.,  1.,  1.,  1.,  1.,  1.,  1.,  1.,  1.,\n",
       "        1.,  1.,  1.,  1.,  1.,  1.,  1.,  1.,  1.,  1.,  1.,  1.,  1.,\n",
       "        1.,  1.,  1.,  1.,  1.,  1.,  1.,  1.,  1.,  1.,  1.,  1.,  1.,\n",
       "        1.,  1.,  1.,  1.,  1.,  1.,  1.,  1.,  1.,  1.,  1.,  1.])"
      ]
     },
     "execution_count": 10,
     "metadata": {},
     "output_type": "execute_result"
    }
   ],
   "source": [
    "true_clones"
   ]
  },
  {
   "cell_type": "code",
   "execution_count": 11,
   "metadata": {
    "collapsed": false
   },
   "outputs": [
    {
     "data": {
      "text/plain": [
       "range(1, 62)"
      ]
     },
     "execution_count": 11,
     "metadata": {},
     "output_type": "execute_result"
    }
   ],
   "source": [
    "nl"
   ]
  },
  {
   "cell_type": "code",
   "execution_count": 12,
   "metadata": {
    "collapsed": false
   },
   "outputs": [
    {
     "data": {
      "text/plain": [
       "51"
      ]
     },
     "execution_count": 12,
     "metadata": {},
     "output_type": "execute_result"
    }
   ],
   "source": [
    "len(true_clones)"
   ]
  },
  {
   "cell_type": "code",
   "execution_count": null,
   "metadata": {
    "collapsed": true
   },
   "outputs": [],
   "source": []
  }
 ],
 "metadata": {
  "kernelspec": {
   "display_name": "Python 3",
   "language": "python",
   "name": "python3"
  },
  "language_info": {
   "codemirror_mode": {
    "name": "ipython",
    "version": 3
   },
   "file_extension": ".py",
   "mimetype": "text/x-python",
   "name": "python",
   "nbconvert_exporter": "python",
   "pygments_lexer": "ipython3",
   "version": "3.5.1"
  }
 },
 "nbformat": 4,
 "nbformat_minor": 0
}
